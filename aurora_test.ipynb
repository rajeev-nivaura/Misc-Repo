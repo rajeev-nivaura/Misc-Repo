{
 "cells": [
  {
   "cell_type": "code",
   "execution_count": 1,
   "metadata": {},
   "outputs": [],
   "source": [
    "import os\n",
    "from selenium import webdriver\n",
    "from selenium.webdriver.common.keys import Keys\n",
    "from selenium.webdriver.common.by import By\n",
    "from selenium.webdriver.support.ui import WebDriverWait\n",
    "from selenium.webdriver.support import expected_conditions as EC\n",
    "from selenium.webdriver.common.action_chains import ActionChains\n",
    "from selenium.webdriver.support.select import Select\n",
    "from tqdm import tqdm_notebook as tqdm, trange"
   ]
  },
  {
   "cell_type": "code",
   "execution_count": 2,
   "metadata": {},
   "outputs": [],
   "source": [
    "driver = webdriver.Chrome(os.path.join(os.pardir,'chromedriver'))\n",
    "flow_url = 'https://d2ul3yiqqp2zg9.cloudfront.net/'\n",
    "driver.get(flow_url)"
   ]
  },
  {
   "cell_type": "code",
   "execution_count": 10,
   "metadata": {},
   "outputs": [],
   "source": [
    "def string_populate(name,string,driver):\n",
    "    string_field = driver.find_element_by_name(name)\n",
    "    string_field.clear()\n",
    "    string_field.send_keys(string)\n",
    "\n",
    "def button_click(name,driver):\n",
    "    button = WebDriverWait(driver,20).until(EC.element_to_be_clickable((By.NAME,name)))\n",
    "    button.click()\n",
    "    \n",
    "def auto_populate(name_list,string_vals,driver):\n",
    "    if type(string_vals) is dict:\n",
    "        for name in name_list:\n",
    "            string = string_vals[name]\n",
    "            string_populate(name,string,driver)\n",
    "            \n",
    "    elif type(string_vals) is list:\n",
    "        for key,name in enumerate(name_list):\n",
    "            string = string_vals[key]\n",
    "            string_populate(name,string,driver)\n",
    "    else:\n",
    "        for name in name_list:\n",
    "            string = string_vals\n",
    "            string_populate(name,string,driver)\n",
    "        \n",
    "def dropdown_option(dropdown_name,option_name,driver):\n",
    "    dropdown_button = button_click(dropdown_name,driver)\n",
    "    option_button = button_click(option_name,driver)\n",
    "\n",
    "def auto_click(name_list,driver):\n",
    "    for name in tqdm(name_list):\n",
    "        button = driver.find_element_by_name(name)\n",
    "        button.click()"
   ]
  },
  {
   "cell_type": "code",
   "execution_count": null,
   "metadata": {},
   "outputs": [],
   "source": [
    "#Login \n",
    "login_names = ['username','password']\n",
    "login_string = ['originationdesk@aurora.com','Niv_2019']\n",
    "login_button = ['signInSubmitButton']\n",
    "\n",
    "logging_in = auto_populate(login_names,login_string,driver)\n",
    "login_button = auto_click(login_button,driver)"
   ]
  },
  {
   "cell_type": "code",
   "execution_count": 12,
   "metadata": {},
   "outputs": [],
   "source": [
    "#Additional Info\n",
    "info_names = ['termsheetdisclaimer','title','funding']\n",
    "info_string = ['disclaimer','test title','many funding']\n",
    "addInfo = auto_populate(info_names,info_string,driver)\n",
    "select_currency = WebDriverWait(driver, 20).until(EC.presence_of_element_located((By.CLASS_NAME, \"el-select\")))\n",
    "select_currency.click()"
   ]
  },
  {
   "cell_type": "code",
   "execution_count": 58,
   "metadata": {},
   "outputs": [
    {
     "data": {
      "application/vnd.jupyter.widget-view+json": {
       "model_id": "6648fe0fade64727b4ecf1a52f998e7a",
       "version_major": 2,
       "version_minor": 0
      },
      "text/plain": [
       "HBox(children=(IntProgress(value=0, max=13), HTML(value='')))"
      ]
     },
     "metadata": {},
     "output_type": "display_data"
    },
    {
     "name": "stdout",
     "output_type": "stream",
     "text": [
      "\n"
     ]
    }
   ],
   "source": [
    "#yes/no\n",
    "yesNo_elements = driver.find_elements_by_class_name(\"el-radio-group\")\n",
    "for yn_element in tqdm(yesNo_elements):    \n",
    "    test = yn_element.find_elements_by_tag_name('span')\n",
    "    no = [t for t in test if t.text == 'No'][0]\n",
    "    yes = [t for t in test if t.text == 'Yes'][0]\n",
    "    driver.execute_script(\"arguments[0].click();\",no)\n",
    "    "
   ]
  },
  {
   "cell_type": "code",
   "execution_count": 59,
   "metadata": {},
   "outputs": [],
   "source": [
    "#termsheet working draft - get from json\n",
    "string_names = ['existing_notes_isin','series_number','common_code',\n",
    "                'use_of_proceeds','expenses','calculation_agent','series_number',\n",
    "                'field-nominal_amount','field-net_proceeds_amount','field-denomination_minimum',\n",
    "                'field-integral_multiple']"
   ]
  },
  {
   "cell_type": "code",
   "execution_count": 60,
   "metadata": {},
   "outputs": [],
   "source": [
    "termsheet_string = auto_populate(string_names,'test123',driver)"
   ]
  },
  {
   "cell_type": "code",
   "execution_count": 61,
   "metadata": {},
   "outputs": [
    {
     "data": {
      "application/vnd.jupyter.widget-view+json": {
       "model_id": "2c6d1d2dae4b4db0b3f14031be526a89",
       "version_major": 2,
       "version_minor": 0
      },
      "text/plain": [
       "HBox(children=(IntProgress(value=0, max=4), HTML(value='')))"
      ]
     },
     "metadata": {},
     "output_type": "display_data"
    },
    {
     "name": "stdout",
     "output_type": "stream",
     "text": [
      "\n"
     ]
    }
   ],
   "source": [
    "#dates\n",
    "date_elements = driver.find_elements_by_css_selector(\".el-date-editor.el-input.el-input--prefix.el-input--suffix.el-date-editor--date > input\")\n",
    "for date in tqdm(date_elements):\n",
    "    actionchains = ActionChains(driver)\n",
    "    date_doubleclick = actionchains.double_click(date).perform()\n",
    "    date.clear()\n",
    "    date.send_keys(\"30-Jun-2021\")\n"
   ]
  },
  {
   "cell_type": "code",
   "execution_count": 62,
   "metadata": {},
   "outputs": [
    {
     "data": {
      "application/vnd.jupyter.widget-view+json": {
       "model_id": "5b6374af96244a3481d044e9f7877119",
       "version_major": 2,
       "version_minor": 0
      },
      "text/plain": [
       "HBox(children=(IntProgress(value=0, max=5), HTML(value='')))"
      ]
     },
     "metadata": {},
     "output_type": "display_data"
    },
    {
     "name": "stdout",
     "output_type": "stream",
     "text": [
      "\n"
     ]
    }
   ],
   "source": [
    "#numbers:easy\n",
    "number_inputs = driver.find_elements_by_xpath(\"//input[@type='number']\")\n",
    "for number in tqdm(number_inputs):\n",
    "    number.clear()\n",
    "    number.send_keys(65)"
   ]
  },
  {
   "cell_type": "code",
   "execution_count": 63,
   "metadata": {},
   "outputs": [],
   "source": [
    "#add means it is a name list\n",
    "add_name = [\"add-lead_managers\"]\n",
    "buttons = driver.find_elements_by_class_name(\"loading\")\n",
    "buttons_y = [b.location['y'] for b in buttons]"
   ]
  },
  {
   "cell_type": "code",
   "execution_count": 64,
   "metadata": {},
   "outputs": [
    {
     "data": {
      "application/vnd.jupyter.widget-view+json": {
       "model_id": "87eb6629b3df45f9963cbb36beda053d",
       "version_major": 2,
       "version_minor": 0
      },
      "text/plain": [
       "HBox(children=(IntProgress(value=0, max=1), HTML(value='')))"
      ]
     },
     "metadata": {},
     "output_type": "display_data"
    },
    {
     "name": "stderr",
     "output_type": "stream",
     "text": [
      "100%|██████████| 3/3 [00:01<00:00,  1.52it/s]"
     ]
    },
    {
     "name": "stdout",
     "output_type": "stream",
     "text": [
      "\n"
     ]
    },
    {
     "name": "stderr",
     "output_type": "stream",
     "text": [
      "\n"
     ]
    }
   ],
   "source": [
    "#locate relavant field, get height of field then apply the tolerances\n",
    "num_inputs = 3\n",
    "for name_list in tqdm(add_name):\n",
    "    name_list = driver.find_element_by_name(name_list)\n",
    "    name_list_loc = name_list.location\n",
    "    name_list_size = name_list.size\n",
    "\n",
    "    #height tolerances\n",
    "    height_lower = name_list_loc['y'] - name_list_size['height']//2\n",
    "    height_upper = name_list_loc['y'] + name_list_size['height']//2\n",
    "\n",
    "    #finding add button for name_list\n",
    "    button_index = []\n",
    "    for key,b_y in enumerate(buttons_y):\n",
    "        if b_y in range(height_lower,height_upper):\n",
    "            button_index.append(key)\n",
    "\n",
    "    assert len(button_index) == 1, 'Only one button should be on same level as field, change the height tolerance or reset'\n",
    "    add_button = buttons[button_index[0]]\n",
    "\n",
    "#inputing required textlist\n",
    "    for i in trange(num_inputs):\n",
    "        key = 'test {}'.format(i+1)\n",
    "        name_list.send_keys(key)\n",
    "        if i +1 != num_inputs:\n",
    "            add_button.click()"
   ]
  },
  {
   "cell_type": "code",
   "execution_count": 65,
   "metadata": {},
   "outputs": [],
   "source": [
    "#dates\n",
    "def dates(driver)\n",
    "    date_elements = driver.find_elements_by_css_selector(\".el-date-editor.el-input.el-input--prefix.el-input--suffix.el-date-editor--date > input\")\n",
    "    for date in tqdm(date_elements):\n",
    "        actionchains = ActionChains(driver)\n",
    "        date_doubleclick = actionchains.double_click(date).perform()\n",
    "        date.clear()\n",
    "        date.send_keys(\"30-Jun-2021\")\n",
    "\n",
    "#yes/no\n",
    "def yesno(driver):\n",
    "    yesNo_elements = driver.find_elements_by_class_name(\"el-radio-group\")\n",
    "    for yn_element in tqdm(yesNo_elements):    \n",
    "        test = yn_element.find_elements_by_tag_name('span')\n",
    "        no = [t for t in test if t.text == 'No'][0]\n",
    "        yes = [t for t in test if t.text == 'Yes'][0]\n",
    "        driver.execute_script(\"arguments[0].click();\",no)\n",
    "\n",
    "#numbers:easy\n",
    "def number(driver):\n",
    "    number_inputs = driver.find_elements_by_xpath(\"//input[@type='number']\")\n",
    "    for number in tqdm(number_inputs):\n",
    "        number.clear()\n",
    "        number.send_keys(65)\n",
    "\n",
    "\n",
    "#successfully found all selectables and can dclick with this\n",
    "def selectables(driver):\n",
    "    selectable_inputs = driver.find_elements_by_xpath(\"//input[@placeholder='Select']\")\n",
    "    for val,selectable in enumerate(selectable_inputs):\n",
    "        selected = driver.execute_script(\"arguments[0].click();\",selectable)\n",
    "    #     down = selectable.send_keys(Keys.DOWN)\n",
    "        enter = selectable.send_keys(Keys.ENTER)"
   ]
  },
  {
   "cell_type": "code",
   "execution_count": null,
   "metadata": {},
   "outputs": [],
   "source": []
  }
 ],
 "metadata": {
  "kernelspec": {
   "display_name": "Python 3",
   "language": "python",
   "name": "python3"
  },
  "language_info": {
   "codemirror_mode": {
    "name": "ipython",
    "version": 3
   },
   "file_extension": ".py",
   "mimetype": "text/x-python",
   "name": "python",
   "nbconvert_exporter": "python",
   "pygments_lexer": "ipython3",
   "version": "3.7.4"
  }
 },
 "nbformat": 4,
 "nbformat_minor": 2
}
