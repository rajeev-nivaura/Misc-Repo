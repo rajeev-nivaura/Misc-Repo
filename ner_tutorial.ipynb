{
 "cells": [
  {
   "cell_type": "code",
   "execution_count": 1,
   "metadata": {},
   "outputs": [],
   "source": [
    "import pandas as pd\n",
    "import numpy as np\n",
    "from sklearn.feature_extraction import DictVectorizer\n",
    "from sklearn.feature_extraction.text import HashingVectorizer\n",
    "from sklearn.linear_model import Perceptron\n",
    "from sklearn.model_selection import train_test_split\n",
    "from sklearn.linear_model import SGDClassifier\n",
    "from sklearn.linear_model import PassiveAggressiveClassifier\n",
    "from sklearn.naive_bayes import MultinomialNB\n",
    "from sklearn.metrics import classification_report\n",
    "import os"
   ]
  },
  {
   "cell_type": "code",
   "execution_count": 2,
   "metadata": {},
   "outputs": [],
   "source": [
    "import matplotlib.pyplot as plt"
   ]
  },
  {
   "cell_type": "code",
   "execution_count": 22,
   "metadata": {},
   "outputs": [
    {
     "data": {
      "text/html": [
       "<div>\n",
       "<style scoped>\n",
       "    .dataframe tbody tr th:only-of-type {\n",
       "        vertical-align: middle;\n",
       "    }\n",
       "\n",
       "    .dataframe tbody tr th {\n",
       "        vertical-align: top;\n",
       "    }\n",
       "\n",
       "    .dataframe thead th {\n",
       "        text-align: right;\n",
       "    }\n",
       "</style>\n",
       "<table border=\"1\" class=\"dataframe\">\n",
       "  <thead>\n",
       "    <tr style=\"text-align: right;\">\n",
       "      <th></th>\n",
       "      <th>Sentence #</th>\n",
       "      <th>Word</th>\n",
       "      <th>POS</th>\n",
       "      <th>Tag</th>\n",
       "    </tr>\n",
       "  </thead>\n",
       "  <tbody>\n",
       "    <tr>\n",
       "      <td>0</td>\n",
       "      <td>Sentence: 1</td>\n",
       "      <td>Thousands</td>\n",
       "      <td>NNS</td>\n",
       "      <td>O</td>\n",
       "    </tr>\n",
       "    <tr>\n",
       "      <td>1</td>\n",
       "      <td>NaN</td>\n",
       "      <td>of</td>\n",
       "      <td>IN</td>\n",
       "      <td>O</td>\n",
       "    </tr>\n",
       "    <tr>\n",
       "      <td>2</td>\n",
       "      <td>NaN</td>\n",
       "      <td>demonstrators</td>\n",
       "      <td>NNS</td>\n",
       "      <td>O</td>\n",
       "    </tr>\n",
       "    <tr>\n",
       "      <td>3</td>\n",
       "      <td>NaN</td>\n",
       "      <td>have</td>\n",
       "      <td>VBP</td>\n",
       "      <td>O</td>\n",
       "    </tr>\n",
       "    <tr>\n",
       "      <td>4</td>\n",
       "      <td>NaN</td>\n",
       "      <td>marched</td>\n",
       "      <td>VBN</td>\n",
       "      <td>O</td>\n",
       "    </tr>\n",
       "  </tbody>\n",
       "</table>\n",
       "</div>"
      ],
      "text/plain": [
       "    Sentence #           Word  POS Tag\n",
       "0  Sentence: 1      Thousands  NNS   O\n",
       "1          NaN             of   IN   O\n",
       "2          NaN  demonstrators  NNS   O\n",
       "3          NaN           have  VBP   O\n",
       "4          NaN        marched  VBN   O"
      ]
     },
     "execution_count": 22,
     "metadata": {},
     "output_type": "execute_result"
    }
   ],
   "source": [
    "data = os.path.join(os.getcwd(),'ner_dataset.csv')\n",
    "encoding = encoding = \"ISO-8859-1\"\n",
    "df = pd.read_csv(data,encoding=encoding)\n",
    "df = df[:100000]\n",
    "df.head()"
   ]
  },
  {
   "cell_type": "code",
   "execution_count": 23,
   "metadata": {},
   "outputs": [
    {
     "data": {
      "text/plain": [
       "4544"
      ]
     },
     "execution_count": 23,
     "metadata": {},
     "output_type": "execute_result"
    }
   ],
   "source": [
    "df['Sentence #'].nunique()"
   ]
  },
  {
   "cell_type": "code",
   "execution_count": 24,
   "metadata": {},
   "outputs": [
    {
     "data": {
      "text/plain": [
       "Sentence #    95456\n",
       "Word              0\n",
       "POS               0\n",
       "Tag               0\n",
       "dtype: int64"
      ]
     },
     "execution_count": 24,
     "metadata": {},
     "output_type": "execute_result"
    }
   ],
   "source": [
    "df.isnull().sum()"
   ]
  },
  {
   "cell_type": "code",
   "execution_count": 25,
   "metadata": {},
   "outputs": [],
   "source": [
    "df = df.fillna(method='ffill')"
   ]
  },
  {
   "cell_type": "code",
   "execution_count": 26,
   "metadata": {},
   "outputs": [],
   "source": [
    "df = df.rename(mapper={'Sentence #': 'sentence','Tag':'tag','Word':'word'},axis=1)\n",
    "#Have to use df = df.rename() to overwrite memory for form of df"
   ]
  },
  {
   "cell_type": "code",
   "execution_count": 27,
   "metadata": {},
   "outputs": [
    {
     "data": {
      "text/html": [
       "<div>\n",
       "<style scoped>\n",
       "    .dataframe tbody tr th:only-of-type {\n",
       "        vertical-align: middle;\n",
       "    }\n",
       "\n",
       "    .dataframe tbody tr th {\n",
       "        vertical-align: top;\n",
       "    }\n",
       "\n",
       "    .dataframe thead th {\n",
       "        text-align: right;\n",
       "    }\n",
       "</style>\n",
       "<table border=\"1\" class=\"dataframe\">\n",
       "  <thead>\n",
       "    <tr style=\"text-align: right;\">\n",
       "      <th></th>\n",
       "      <th>tag</th>\n",
       "      <th>counts</th>\n",
       "    </tr>\n",
       "  </thead>\n",
       "  <tbody>\n",
       "    <tr>\n",
       "      <td>0</td>\n",
       "      <td>B-art</td>\n",
       "      <td>75</td>\n",
       "    </tr>\n",
       "    <tr>\n",
       "      <td>1</td>\n",
       "      <td>B-eve</td>\n",
       "      <td>53</td>\n",
       "    </tr>\n",
       "    <tr>\n",
       "      <td>2</td>\n",
       "      <td>B-geo</td>\n",
       "      <td>3303</td>\n",
       "    </tr>\n",
       "    <tr>\n",
       "      <td>3</td>\n",
       "      <td>B-gpe</td>\n",
       "      <td>1740</td>\n",
       "    </tr>\n",
       "    <tr>\n",
       "      <td>4</td>\n",
       "      <td>B-nat</td>\n",
       "      <td>30</td>\n",
       "    </tr>\n",
       "    <tr>\n",
       "      <td>5</td>\n",
       "      <td>B-org</td>\n",
       "      <td>1876</td>\n",
       "    </tr>\n",
       "    <tr>\n",
       "      <td>6</td>\n",
       "      <td>B-per</td>\n",
       "      <td>1668</td>\n",
       "    </tr>\n",
       "    <tr>\n",
       "      <td>7</td>\n",
       "      <td>B-tim</td>\n",
       "      <td>1823</td>\n",
       "    </tr>\n",
       "    <tr>\n",
       "      <td>8</td>\n",
       "      <td>I-art</td>\n",
       "      <td>43</td>\n",
       "    </tr>\n",
       "    <tr>\n",
       "      <td>9</td>\n",
       "      <td>I-eve</td>\n",
       "      <td>47</td>\n",
       "    </tr>\n",
       "    <tr>\n",
       "      <td>10</td>\n",
       "      <td>I-geo</td>\n",
       "      <td>690</td>\n",
       "    </tr>\n",
       "    <tr>\n",
       "      <td>11</td>\n",
       "      <td>I-gpe</td>\n",
       "      <td>51</td>\n",
       "    </tr>\n",
       "    <tr>\n",
       "      <td>12</td>\n",
       "      <td>I-nat</td>\n",
       "      <td>11</td>\n",
       "    </tr>\n",
       "    <tr>\n",
       "      <td>13</td>\n",
       "      <td>I-org</td>\n",
       "      <td>1470</td>\n",
       "    </tr>\n",
       "    <tr>\n",
       "      <td>14</td>\n",
       "      <td>I-per</td>\n",
       "      <td>1846</td>\n",
       "    </tr>\n",
       "    <tr>\n",
       "      <td>15</td>\n",
       "      <td>I-tim</td>\n",
       "      <td>549</td>\n",
       "    </tr>\n",
       "    <tr>\n",
       "      <td>16</td>\n",
       "      <td>O</td>\n",
       "      <td>84725</td>\n",
       "    </tr>\n",
       "  </tbody>\n",
       "</table>\n",
       "</div>"
      ],
      "text/plain": [
       "      tag  counts\n",
       "0   B-art      75\n",
       "1   B-eve      53\n",
       "2   B-geo    3303\n",
       "3   B-gpe    1740\n",
       "4   B-nat      30\n",
       "5   B-org    1876\n",
       "6   B-per    1668\n",
       "7   B-tim    1823\n",
       "8   I-art      43\n",
       "9   I-eve      47\n",
       "10  I-geo     690\n",
       "11  I-gpe      51\n",
       "12  I-nat      11\n",
       "13  I-org    1470\n",
       "14  I-per    1846\n",
       "15  I-tim     549\n",
       "16      O   84725"
      ]
     },
     "execution_count": 27,
     "metadata": {},
     "output_type": "execute_result"
    }
   ],
   "source": [
    "df.groupby('tag').size().reset_index(name='counts')"
   ]
  },
  {
   "cell_type": "code",
   "execution_count": 28,
   "metadata": {},
   "outputs": [
    {
     "name": "stdout",
     "output_type": "stream",
     "text": [
      "      tag  counts\n",
      "0   B-art      75\n",
      "1   B-eve      53\n",
      "2   B-geo    3303\n",
      "3   B-gpe    1740\n",
      "4   B-nat      30\n",
      "5   B-org    1876\n",
      "6   B-per    1668\n",
      "7   B-tim    1823\n",
      "8   I-art      43\n",
      "9   I-eve      47\n",
      "10  I-geo     690\n",
      "11  I-gpe      51\n",
      "12  I-nat      11\n",
      "13  I-org    1470\n",
      "14  I-per    1846\n",
      "15  I-tim     549\n",
      "16      O   84725\n"
     ]
    }
   ],
   "source": [
    "counts = df.groupby('tag').size().reset_index(name='counts')\n",
    "print(counts)"
   ]
  },
  {
   "cell_type": "markdown",
   "metadata": {},
   "source": [
    "**There is an uneven distribution of classes**"
   ]
  },
  {
   "cell_type": "code",
   "execution_count": 29,
   "metadata": {},
   "outputs": [
    {
     "data": {
      "text/plain": [
       "Text(0, 0.5, 'Log Count')"
      ]
     },
     "execution_count": 29,
     "metadata": {},
     "output_type": "execute_result"
    },
    {
     "data": {
      "image/png": "[encoded data removed]",
      "text/plain": [
       "<Figure size 1080x576 with 1 Axes>"
      ]
     },
     "metadata": {
      "needs_background": "light"
     },
     "output_type": "display_data"
    },
    {
     "data": {
      "image/png": "[encoded data removed]",
      "text/plain": [
       "<Figure size 1080x576 with 1 Axes>"
      ]
     },
     "metadata": {
      "needs_background": "light"
     },
     "output_type": "display_data"
    }
   ],
   "source": [
    "plt.figure(1,figsize=(15,8))\n",
    "plt.bar(counts['tag'],counts['counts'])\n",
    "plt.title('Counts for Each Category')\n",
    "plt.xlabel('Tag')\n",
    "plt.ylabel('Count')\n",
    "\n",
    "plt.figure(2,figsize=(15,8))\n",
    "plt.bar(counts['tag'],np.log(counts['counts']),color='r')\n",
    "plt.title('Log Counts for Each Category')\n",
    "plt.xlabel('Tag')\n",
    "plt.ylabel('Log Count')"
   ]
  },
  {
   "cell_type": "code",
   "execution_count": 30,
   "metadata": {},
   "outputs": [
    {
     "data": {
      "text/html": [
       "<div>\n",
       "<style scoped>\n",
       "    .dataframe tbody tr th:only-of-type {\n",
       "        vertical-align: middle;\n",
       "    }\n",
       "\n",
       "    .dataframe tbody tr th {\n",
       "        vertical-align: top;\n",
       "    }\n",
       "\n",
       "    .dataframe thead th {\n",
       "        text-align: right;\n",
       "    }\n",
       "</style>\n",
       "<table border=\"1\" class=\"dataframe\">\n",
       "  <thead>\n",
       "    <tr style=\"text-align: right;\">\n",
       "      <th></th>\n",
       "      <th>sentence</th>\n",
       "      <th>word</th>\n",
       "      <th>POS</th>\n",
       "    </tr>\n",
       "  </thead>\n",
       "  <tbody>\n",
       "    <tr>\n",
       "      <td>0</td>\n",
       "      <td>Sentence: 1</td>\n",
       "      <td>Thousands</td>\n",
       "      <td>NNS</td>\n",
       "    </tr>\n",
       "    <tr>\n",
       "      <td>1</td>\n",
       "      <td>Sentence: 1</td>\n",
       "      <td>of</td>\n",
       "      <td>IN</td>\n",
       "    </tr>\n",
       "    <tr>\n",
       "      <td>2</td>\n",
       "      <td>Sentence: 1</td>\n",
       "      <td>demonstrators</td>\n",
       "      <td>NNS</td>\n",
       "    </tr>\n",
       "    <tr>\n",
       "      <td>3</td>\n",
       "      <td>Sentence: 1</td>\n",
       "      <td>have</td>\n",
       "      <td>VBP</td>\n",
       "    </tr>\n",
       "    <tr>\n",
       "      <td>4</td>\n",
       "      <td>Sentence: 1</td>\n",
       "      <td>marched</td>\n",
       "      <td>VBN</td>\n",
       "    </tr>\n",
       "  </tbody>\n",
       "</table>\n",
       "</div>"
      ],
      "text/plain": [
       "      sentence           word  POS\n",
       "0  Sentence: 1      Thousands  NNS\n",
       "1  Sentence: 1             of   IN\n",
       "2  Sentence: 1  demonstrators  NNS\n",
       "3  Sentence: 1           have  VBP\n",
       "4  Sentence: 1        marched  VBN"
      ]
     },
     "execution_count": 30,
     "metadata": {},
     "output_type": "execute_result"
    }
   ],
   "source": [
    "X = df.drop('tag',axis=1)\n",
    "X.head()"
   ]
  },
  {
   "cell_type": "code",
   "execution_count": 31,
   "metadata": {},
   "outputs": [],
   "source": [
    "v = DictVectorizer(sparse='False')\n",
    "X = v.fit_transform(X.to_dict('records'))\n",
    "y = df.tag.values"
   ]
  },
  {
   "cell_type": "code",
   "execution_count": 39,
   "metadata": {},
   "outputs": [
    {
     "data": {
      "text/plain": [
       "['B-art',\n",
       " 'B-eve',\n",
       " 'B-geo',\n",
       " 'B-gpe',\n",
       " 'B-nat',\n",
       " 'B-org',\n",
       " 'B-per',\n",
       " 'B-tim',\n",
       " 'I-art',\n",
       " 'I-eve',\n",
       " 'I-geo',\n",
       " 'I-gpe',\n",
       " 'I-nat',\n",
       " 'I-org',\n",
       " 'I-per',\n",
       " 'I-tim']"
      ]
     },
     "execution_count": 39,
     "metadata": {},
     "output_type": "execute_result"
    }
   ],
   "source": [
    "classes = np.unique(y)\n",
    "classes = classes.tolist()\n",
    "\n",
    "new_classes = classes.copy()\n",
    "new_classes.pop()\n",
    "new_classes\n",
    "#Use pop to remove the last clas from the list which is the none tag"
   ]
  },
  {
   "cell_type": "code",
   "execution_count": 33,
   "metadata": {},
   "outputs": [
    {
     "data": {
      "text/plain": [
       "((67000, 15507), (67000,))"
      ]
     },
     "execution_count": 33,
     "metadata": {},
     "output_type": "execute_result"
    }
   ],
   "source": [
    "X_train,X_test,y_train,y_test = train_test_split(X,y,test_size=0.33,random_state=0)\n",
    "X_train.shape,y_train.shape"
   ]
  },
  {
   "cell_type": "code",
   "execution_count": 34,
   "metadata": {},
   "outputs": [
    {
     "name": "stderr",
     "output_type": "stream",
     "text": [
      "[Parallel(n_jobs=-1)]: Using backend ThreadingBackend with 4 concurrent workers.\n",
      "[Parallel(n_jobs=-1)]: Done   5 tasks      | elapsed:    0.0s\n",
      "[Parallel(n_jobs=-1)]: Done  10 tasks      | elapsed:    0.0s\n",
      "[Parallel(n_jobs=-1)]: Done  12 out of  17 | elapsed:    0.0s remaining:    0.0s\n",
      "[Parallel(n_jobs=-1)]: Done  14 out of  17 | elapsed:    0.1s remaining:    0.0s\n",
      "[Parallel(n_jobs=-1)]: Done  17 out of  17 | elapsed:    0.1s finished\n"
     ]
    },
    {
     "name": "stdout",
     "output_type": "stream",
     "text": [
      "-- Epoch 1-- Epoch 1\n",
      "-- Epoch 1\n",
      "\n",
      "-- Epoch 1\n",
      "Norm: 10.34, NNZs: 107, Bias: -0.210000, T: 67000, Avg. loss: 0.000988\n",
      "Total training time: 0.02 seconds.\n",
      "Norm: 13.49, NNZs: 173, Bias: -0.240000, T: 67000, Avg. loss: 0.001384-- Epoch 1\n",
      "Total training time: 0.03 seconds.\n",
      "\n",
      "-- Epoch 1\n",
      "Norm: 51.94, NNZs: 2108, Bias: -0.460000, T: 67000, Avg. loss: 0.026206\n",
      "Norm: 35.20, NNZs: 939, Bias: -0.450000, T: 67000, Avg. loss: 0.010033\n",
      "Total training time: 0.04 seconds.\n",
      "Total training time: 0.02 seconds.\n",
      "-- Epoch 1\n",
      "-- Epoch 1\n",
      "Norm: 8.00, NNZs: 61, Bias: -0.140000, T: 67000, Avg. loss: 0.000451\n",
      "Total training time: 0.01 seconds.\n",
      "-- Epoch 1\n",
      "Norm: 45.84, NNZs: 1711, Bias: -0.490000, T: 67000, Avg. loss: 0.022530\n",
      "Total training time: 0.03 seconds.\n",
      "-- Epoch 1\n",
      "Norm: 34.19, NNZs: 913, Bias: -0.410000, T: 67000, Avg. loss: 0.012243\n",
      "Total training time: 0.02 seconds.\n",
      "Norm: 39.87, NNZs: 1416, Bias: -0.400000, T: 67000, Avg. loss: 0.014701-- Epoch 1\n",
      "\n",
      "Total training time: 0.02 seconds.\n",
      "Norm: 10.58, NNZs: 109, Bias: -0.160000, T: 67000, Avg. loss: 0.000807-- Epoch 1\n",
      "Total training time: 0.03 seconds.\n",
      "\n",
      "-- Epoch 1\n",
      "Norm: 9.22, NNZs: 82, Bias: -0.170000, T: 67000, Avg. loss: 0.000669\n",
      "Total training time: 0.02 seconds.\n",
      "Norm: 28.34, NNZs: 690, Bias: -0.410000, T: 67000, Avg. loss: 0.007876-- Epoch 1\n",
      "Total training time: 0.03 seconds.\n",
      "\n",
      "-- Epoch 1Norm: 10.15, NNZs: 94, Bias: -0.190000, T: 67000, Avg. loss: 0.001024\n",
      "\n",
      "Total training time: 0.02 seconds.\n",
      "Norm: 5.83, NNZs: 34, Bias: -0.080000, T: 67000, Avg. loss: 0.000236-- Epoch 1\n",
      "Total training time: 0.02 seconds.\n",
      "\n",
      "Norm: 40.98, NNZs: 1359, Bias: -0.490000, T: 67000, Avg. loss: 0.017009\n",
      "-- Epoch 1Total training time: 0.02 seconds.\n",
      "\n",
      "Norm: 47.01, NNZs: 1769, Bias: -0.480000, T: 67000, Avg. loss: 0.016715\n",
      "Total training time: 0.02 seconds.\n",
      "Norm: 26.38, NNZs: 583, Bias: -0.460000, T: 67000, Avg. loss: 0.008575\n",
      "Total training time: 0.02 seconds.\n",
      "Norm: 54.59, NNZs: 2175, Bias: 0.480000, T: 67000, Avg. loss: 0.032713\n",
      "Total training time: 0.02 seconds.\n"
     ]
    },
    {
     "data": {
      "text/plain": [
       "Perceptron(alpha=0.0001, class_weight=None, early_stopping=False, eta0=1.0,\n",
       "      fit_intercept=True, max_iter=5, n_iter=None, n_iter_no_change=5,\n",
       "      n_jobs=-1, penalty=None, random_state=0, shuffle=True, tol=None,\n",
       "      validation_fraction=0.1, verbose=10, warm_start=False)"
      ]
     },
     "execution_count": 34,
     "metadata": {},
     "output_type": "execute_result"
    }
   ],
   "source": [
    "per = Perceptron(verbose=10,n_jobs=-1,max_iter=5)\n",
    "per.partial_fit(X_train, y_train, classes)"
   ]
  },
  {
   "cell_type": "code",
   "execution_count": 38,
   "metadata": {},
   "outputs": [
    {
     "name": "stdout",
     "output_type": "stream",
     "text": [
      "              precision    recall  f1-score   support\n",
      "\n",
      "       B-art       0.10      0.17      0.12        24\n",
      "       B-eve       0.00      0.00      0.00        19\n",
      "       B-geo       0.45      0.89      0.59      1085\n",
      "       B-gpe       0.96      0.75      0.84       556\n",
      "       B-nat       0.18      0.17      0.17        12\n",
      "       B-org       0.63      0.23      0.33       589\n",
      "       B-per       0.82      0.37      0.51       564\n",
      "       B-tim       0.84      0.70      0.76       611\n",
      "       I-art       0.02      0.17      0.04        12\n",
      "       I-eve       0.50      0.06      0.10        18\n",
      "       I-geo       0.50      0.02      0.03       230\n",
      "       I-gpe       0.02      0.07      0.03        14\n",
      "       I-nat       0.00      1.00      0.01         2\n",
      "       I-org       0.62      0.45      0.52       445\n",
      "       I-per       0.88      0.06      0.11       591\n",
      "       I-tim       0.26      0.07      0.11       194\n",
      "\n",
      "   micro avg       0.50      0.49      0.49      4966\n",
      "   macro avg       0.42      0.32      0.27      4966\n",
      "weighted avg       0.67      0.49      0.48      4966\n",
      "\n"
     ]
    }
   ],
   "source": [
    "print(classification_report(y_pred=per.predict(X_test),y_true=y_test,labels=new_classes))"
   ]
  },
  {
   "cell_type": "markdown",
   "metadata": {},
   "source": [
    "**Use Sci-kit learns classification report for multi-class classification**"
   ]
  },
  {
   "cell_type": "code",
   "execution_count": 42,
   "metadata": {},
   "outputs": [
    {
     "name": "stdout",
     "output_type": "stream",
     "text": [
      "              precision    recall  f1-score   support\n",
      "\n",
      "       B-art       0.25      0.04      0.07        24\n",
      "       B-eve       0.50      0.05      0.10        19\n",
      "       B-geo       0.47      0.92      0.62      1085\n",
      "       B-gpe       0.90      0.63      0.74       556\n",
      "       B-nat       1.00      0.17      0.29        12\n",
      "       B-org       0.63      0.38      0.47       589\n",
      "       B-per       0.88      0.40      0.55       564\n",
      "       B-tim       0.91      0.67      0.77       611\n",
      "       I-art       0.00      0.00      0.00        12\n",
      "       I-eve       0.00      0.00      0.00        18\n",
      "       I-geo       0.74      0.47      0.58       230\n",
      "       I-gpe       0.00      0.00      0.00        14\n",
      "       I-nat       0.12      0.50      0.20         2\n",
      "       I-org       0.70      0.46      0.55       445\n",
      "       I-per       0.72      0.50      0.59       591\n",
      "       I-tim       0.40      0.02      0.04       194\n",
      "\n",
      "   micro avg       0.63      0.57      0.60      4966\n",
      "   macro avg       0.51      0.33      0.35      4966\n",
      "weighted avg       0.69      0.57      0.58      4966\n",
      "\n"
     ]
    }
   ],
   "source": [
    "sgd = SGDClassifier()\n",
    "sgd.partial_fit(X_train,y_train,classes)\n",
    "print(classification_report(y_pred=sgd.predict(X_test),y_true=y_test,labels=new_classes))"
   ]
  },
  {
   "cell_type": "code",
   "execution_count": 44,
   "metadata": {},
   "outputs": [
    {
     "name": "stdout",
     "output_type": "stream",
     "text": [
      "              precision    recall  f1-score   support\n",
      "\n",
      "       B-art       0.06      0.17      0.09        24\n",
      "       B-eve       0.33      0.37      0.35        19\n",
      "       B-geo       0.70      0.63      0.66      1085\n",
      "       B-gpe       0.70      0.83      0.76       556\n",
      "       B-nat       0.35      0.50      0.41        12\n",
      "       B-org       0.41      0.44      0.43       589\n",
      "       B-per       0.44      0.47      0.46       564\n",
      "       B-tim       0.56      0.61      0.59       611\n",
      "       I-art       0.07      0.08      0.08        12\n",
      "       I-eve       0.46      0.33      0.39        18\n",
      "       I-geo       0.40      0.52      0.46       230\n",
      "       I-gpe       0.13      0.14      0.14        14\n",
      "       I-nat       0.00      0.00      0.00         2\n",
      "       I-org       0.50      0.51      0.51       445\n",
      "       I-per       0.53      0.50      0.51       591\n",
      "       I-tim       0.17      0.27      0.21       194\n",
      "\n",
      "   micro avg       0.52      0.56      0.54      4966\n",
      "   macro avg       0.36      0.40      0.38      4966\n",
      "weighted avg       0.54      0.56      0.54      4966\n",
      "\n"
     ]
    }
   ],
   "source": [
    "nb = MultinomialNB(alpha=0.01)\n",
    "nb.partial_fit(X_train,y_train,classes)\n",
    "nb_report = classification_report(y_pred=nb.predict(X_test),y_true=y_test,labels=new_classes)\n",
    "print(nb_report)"
   ]
  },
  {
   "cell_type": "code",
   "execution_count": 46,
   "metadata": {},
   "outputs": [
    {
     "name": "stdout",
     "output_type": "stream",
     "text": [
      "              precision    recall  f1-score   support\n",
      "\n",
      "       B-art       1.00      0.04      0.08        24\n",
      "       B-eve       0.33      0.32      0.32        19\n",
      "       B-geo       0.77      0.62      0.69      1085\n",
      "       B-gpe       0.94      0.78      0.85       556\n",
      "       B-nat       0.67      0.17      0.27        12\n",
      "       B-org       0.26      0.68      0.38       589\n",
      "       B-per       0.77      0.44      0.56       564\n",
      "       B-tim       0.84      0.71      0.77       611\n",
      "       I-art       0.25      0.17      0.20        12\n",
      "       I-eve       0.67      0.11      0.19        18\n",
      "       I-geo       0.70      0.51      0.59       230\n",
      "       I-gpe       0.19      0.50      0.28        14\n",
      "       I-nat       0.25      0.50      0.33         2\n",
      "       I-org       0.59      0.46      0.52       445\n",
      "       I-per       0.74      0.41      0.53       591\n",
      "       I-tim       0.43      0.16      0.23       194\n",
      "\n",
      "   micro avg       0.60      0.57      0.58      4966\n",
      "   macro avg       0.59      0.41      0.42      4966\n",
      "weighted avg       0.70      0.57      0.60      4966\n",
      "\n"
     ]
    }
   ],
   "source": [
    "pa =PassiveAggressiveClassifier()\n",
    "pa.partial_fit(X_train, y_train, classes)\n",
    "pa_report = classification_report(y_pred=pa.predict(X_test),y_true=y_test,labels=new_classes)\n",
    "print(pa_report)"
   ]
  },
  {
   "cell_type": "code",
   "execution_count": 52,
   "metadata": {},
   "outputs": [],
   "source": [
    "import sklearn_crfsuite\n",
    "from sklearn_crfsuite import scorers\n",
    "from sklearn_crfsuite import metrics\n",
    "from collections import Counter"
   ]
  },
  {
   "cell_type": "code",
   "execution_count": 57,
   "metadata": {},
   "outputs": [],
   "source": [
    "class SentenceGetter(object):\n",
    "    \n",
    "    def __init__(self, data):\n",
    "        self.n_sent = 1\n",
    "        self.data = data\n",
    "        self.empty = False\n",
    "        agg_func = lambda s: [(w, p, t) for w, p, t in zip(s['word'].values.tolist(), \n",
    "                                                           s['POS'].values.tolist(), \n",
    "                                                           s['tag'].values.tolist())]\n",
    "        self.grouped = self.data.groupby('sentence').apply(agg_func)\n",
    "        self.sentences = [s for s in self.grouped]\n",
    "        \n",
    "    def get_next(self):\n",
    "        try: \n",
    "            s = self.grouped['Sentence: {}'.format(self.n_sent)]\n",
    "            self.n_sent += 1\n",
    "            return s \n",
    "        except:\n",
    "            return None"
   ]
  },
  {
   "cell_type": "code",
   "execution_count": 58,
   "metadata": {},
   "outputs": [],
   "source": [
    "getter = SentenceGetter(df)"
   ]
  },
  {
   "cell_type": "code",
   "execution_count": 61,
   "metadata": {},
   "outputs": [
    {
     "name": "stdout",
     "output_type": "stream",
     "text": [
      "[('Thousands', 'NNS', 'O'), ('of', 'IN', 'O'), ('demonstrators', 'NNS', 'O'), ('have', 'VBP', 'O'), ('marched', 'VBN', 'O'), ('through', 'IN', 'O'), ('London', 'NNP', 'B-geo'), ('to', 'TO', 'O'), ('protest', 'VB', 'O'), ('the', 'DT', 'O'), ('war', 'NN', 'O'), ('in', 'IN', 'O'), ('Iraq', 'NNP', 'B-geo'), ('and', 'CC', 'O'), ('demand', 'VB', 'O'), ('the', 'DT', 'O'), ('withdrawal', 'NN', 'O'), ('of', 'IN', 'O'), ('British', 'JJ', 'B-gpe'), ('troops', 'NNS', 'O'), ('from', 'IN', 'O'), ('that', 'DT', 'O'), ('country', 'NN', 'O'), ('.', '.', 'O')]\n"
     ]
    }
   ],
   "source": [
    "sent = getter.get_next()\n",
    "print(sent)"
   ]
  },
  {
   "cell_type": "code",
   "execution_count": 62,
   "metadata": {},
   "outputs": [],
   "source": [
    "sentences = getter.sentences"
   ]
  },
  {
   "cell_type": "code",
   "execution_count": null,
   "metadata": {},
   "outputs": [],
   "source": []
  }
 ],
 "metadata": {
  "kernelspec": {
   "display_name": "Python 3",
   "language": "python",
   "name": "python3"
  },
  "language_info": {
   "codemirror_mode": {
    "name": "ipython",
    "version": 3
   },
   "file_extension": ".py",
   "mimetype": "text/x-python",
   "name": "python",
   "nbconvert_exporter": "python",
   "pygments_lexer": "ipython3",
   "version": "3.7.4"
  }
 },
 "nbformat": 4,
 "nbformat_minor": 2
}
