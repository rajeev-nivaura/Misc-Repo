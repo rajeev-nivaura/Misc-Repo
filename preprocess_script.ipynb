{
 "cells": [
  {
   "cell_type": "markdown",
   "metadata": {},
   "source": [
    "# Preprocessing Notebook\n",
    "## Imports String from a text file as pre-processed data and outputs processed string\n",
    "\n",
    "**Uses the synonyms json file as input for synonyms to be generated and loads a pretrained word2vec model for generating synonyms.** "
   ]
  },
  {
   "cell_type": "code",
   "execution_count": 1,
   "metadata": {},
   "outputs": [],
   "source": [
    "import json\n",
    "import os\n",
    "import gensim\n",
    "from gensim.models import KeyedVectors\n",
    "from gensim.models import Phrases\n",
    "import spacy\n",
    "import re\n",
    "from thesaurus import synonym_expander, thesaurus_generator\n",
    "from normalize import normalizer\n",
    "\n",
    "#nlp model loaded from spacy for lemmatization, stop word and punctuation removal\n",
    "nlp = spacy.load(\"en_core_web_sm\")     "
   ]
  },
  {
   "cell_type": "markdown",
   "metadata": {},
   "source": [
    "**Preloaded word2vec path given here with preloaded model filename.**"
   ]
  },
  {
   "cell_type": "code",
   "execution_count": 2,
   "metadata": {},
   "outputs": [],
   "source": [
    "preload_path = r'..\\pretrained_weights\\glove'\n",
    "w2v_weights = 'glove.6B.200d.txt.word2vec'\n",
    "w2v_path = os.path.join(preload_path,w2v_weights)"
   ]
  },
  {
   "cell_type": "markdown",
   "metadata": {},
   "source": [
    "**Text data for preprocessed string filepath provided here.**"
   ]
  },
  {
   "cell_type": "code",
   "execution_count": 3,
   "metadata": {},
   "outputs": [],
   "source": [
    "text_path = r'..\\data\\test_text'\n",
    "preprocess_filename = 'pre_processed.txt' \n",
    "preprocess_path = os.path.join(text_path,preprocess_filename)"
   ]
  },
  {
   "cell_type": "markdown",
   "metadata": {},
   "source": [
    "**Synonyms JSON file loaded here**"
   ]
  },
  {
   "cell_type": "code",
   "execution_count": 4,
   "metadata": {},
   "outputs": [],
   "source": [
    "data_path = r'..\\data'\n",
    "synonym_filename = 'specified_synonyms.json'"
   ]
  },
  {
   "cell_type": "code",
   "execution_count": 5,
   "metadata": {},
   "outputs": [],
   "source": [
    "#Pretrained word2vec model loaded\n",
    "w2v_model = KeyedVectors.load_word2vec_format(w2v_path, binary=False)"
   ]
  },
  {
   "cell_type": "code",
   "execution_count": 6,
   "metadata": {},
   "outputs": [],
   "source": [
    "preprocess_string = open(preprocess_path).read()\n",
    "preprocess_string = preprocess_string.lower()"
   ]
  },
  {
   "cell_type": "code",
   "execution_count": 7,
   "metadata": {},
   "outputs": [],
   "source": [
    "synonym_file = open(os.path.join(data_path,synonym_filename)).read()\n",
    "synonym_json = json.loads(synonym_file)"
   ]
  },
  {
   "cell_type": "markdown",
   "metadata": {},
   "source": [
    "**Synonyms are generated from the synonym json and the legal dictionary is created for specific legal terms.**"
   ]
  },
  {
   "cell_type": "code",
   "execution_count": 8,
   "metadata": {},
   "outputs": [],
   "source": [
    "legal_dict = {}\n",
    "synonyms_expanded = {}\n",
    "\n",
    "for i in range(2):\n",
    "    priority = synonym_json[i]\n",
    "    content = priority['content']\n",
    "    thesaurus_split = thesaurus_generator(content)\n",
    "    synonyms_dict = thesaurus_split['synonyms_dict']\n",
    "    legal_dict.update(thesaurus_split['legal_dict'])\n",
    "    synonyms_expanded.update(synonym_expander(synonyms_dict,nlp, w2v_model))\n",
    "    \n",
    "thesaurus_split = thesaurus_generator(content)\n",
    "synonyms_dict = thesaurus_split['synonyms_dict']\n",
    "legal_dict = thesaurus_split['legal_dict']\n",
    "synonyms_expanded = synonym_expander(synonyms_dict,nlp, w2v_model)"
   ]
  },
  {
   "cell_type": "markdown",
   "metadata": {},
   "source": [
    "**Synonyms found in input text string and replaced with the base word.**\n",
    "**Normalization happens where text is lemmatized and punctuation and stop words are removed.**"
   ]
  },
  {
   "cell_type": "code",
   "execution_count": 9,
   "metadata": {},
   "outputs": [],
   "source": [
    "for key in legal_dict:\n",
    "    if key in preprocess_string:\n",
    "        preprocess_string.replace(key,legal_dict[key])\n",
    "for key in synonyms_expanded:\n",
    "    if key in preprocess_string:\n",
    "        preprocess_string.replace(key,synonyms_expanded[key])\n",
    "        \n",
    "post_process = normalizer(preprocess_string)  "
   ]
  },
  {
   "cell_type": "code",
   "execution_count": 10,
   "metadata": {},
   "outputs": [
    {
     "name": "stdout",
     "output_type": "stream",
     "text": [
      "strictly private confidential placeholder non disclosure agreement dear sir understand contemplate potential investment placeholder register commercial register local court placeholder have business address placeholder company way acquire share company current shareholder and/or subscription new share issue company potential transaction write confirm basis company advisor provide placeholder receive party confidential information define company advisor shall obligation reserve right discontinue provision confidential information time give reason cardinal definition purpose letter affiliate mean respect company affiliate meaning org cardinal norp stock corporation act aktg confidential information mean â€ information form relate potential transaction company shareholder affiliate obtain provide connection potential transaction include discussion negotiation investigation relate date letter mark confidential â€ copy reproduction information form â€ information document record time contain datum room information form maintain â€ document prepare behalf receive party contain reflect utilise information previously refer definition â€ letter fact discussion negotiation take place company receive party relation potential transaction term condition fact respect potential transaction include fact confidential information provide receive party cardinal exclusion understand confidential information shall include information â€ time disclosure public domain â€ disclosure come public domain reason breach obligation letter breach person obligation duty confidentiality â€ lawfully receive party possession source information subject confidentiality agreement duty relate confidentiality â€ lawfully available receive party directly indirectly company source information subject confidentiality agreement duty relate confidentiality exception prove documentary evidence receive party bear burden proof cardinal undertaking receive party â€ shall use confidential information sole purpose evaluate potential transaction shall use assist ordinal party use confidential information purpose particular procure commercial advantage company and/or affiliate â€ shall anytime prior write consent company disclose reveal solicit disclosure confidential information person â€ strict need know basis director employee receive party affiliate receive party directly concerned receive partyâ€ ™ s evaluation potential transaction require course duty receive consider confidential information purpose evaluate potential transaction â€ receive partyâ€ ™ s advisor instruct relation potential transaction understand director employee advisor shall ordinal inform term letter receive party guarantee affiliate director employee advisor hold confidential information disclose confidential bind letter ii receive party shall responsible action failure act constitute breach violation term obligation understanding letter director employee advisor shall include take reasonable measure cost include limit court proceeding restrain director employee advisor prohibited unauthorized disclosure use confidential information â€ shall copy reproduce document extract document contain confidential information way duplicate confidential information purpose evaluate potential transaction â€ require law regulatory authority prior write approval company shall assist ordinal party announcement disclosure relation potential transaction â€ shall company write request promptly return destroy confidential information supply behalf company include copy memorandum writing recording prepare receive party affiliate respective director employee advisor base contain reflect confidential information require law regulation pursuant bona fide automatic electronic backup procedure duly retain confidential information continue keep confidential subject term agreement â€ shall confidential information safe secure place effective control shall treat confidential information level confidentiality apply confidential information â€ represent act matter principal agent intermediary broker ordinal party cardinal legal requirement disclose receive party affiliate respective director employee advisor reasonably likely require law regulatory governmental authority legal proceeding disclose confidential information receive party shall prompt prior notice thereof company receive party shall co operate fully promptly company reasonable direction disclosure include limited challenge validity requirement shall limit disclosure minimum extent legally require cardinal representation warranty obligation update intellectual property company affiliate respective director employee advisor â€ representation warranty express imply accuracy completeness confidential information reasonableness assumption contain â€ duty update supplement confidential information supply receive party â€ accept responsibility liability receive party include limitation liability negligence einfache fahrlã¤ssigkeit relation confidential information accuracy completeness confidential information intellectual property include patent trade mark service mark right register unregistere design application foregoing trade business name right license copyright include right computer software database internet domain name know include formula process list supplier customer proprietary knowledge information proprietary right confidential information shall remain company subsequently stipulate definitive agreement cardinal solicitation period cardinal date letter prior write consent company receive party shall guarantee affiliate directly indirectly employ engage solicit employment engagement director employee company affiliate receive party contact receive party knowledge result connection potential transaction provide receive party affiliate shall preclude hire director employee give notice termination receive notice termination company affiliate prior commencement employment discussion receive party affiliate ii respond initiative general advertisement employment direct director employee company cardinal unauthorised contact prior consent company receive party shall guarantee affiliate directly indirectly contact company customer partner supplier shareholder legal representative officer employee diligence purpose connection potential transaction normal proper course receive partyâ€ ™ s ordinary trading activity basis unconnecte potential transaction cardinal remedy party agree money damage adequate remedy event breach obligation letter receive party affiliate accordingly prejudice right remedy applicable law company shall entitle remedy injunction breach threaten breach term letter cardinal duration particular provision letter term shall survive short period time obligation set forth letter shall survive cardinal date letter cardinal miscellaneous letter shall constitute bind offer agreement potential transaction amendment agreement constitute letter include present paragraph shall valid writing duly sign behalf party provision letter shall operate benefit company benefit companyâ€ ™ s shareholder affiliate ordinal party beneficiary agreement meaning section quantity civil code bgb right arise letter jointly severally claim company shareholder affiliate cardinal provision agreement invalid unenforceable shall affect validity enforceability remain provision agreement shall apply agreement contain contractual gap place invalid unenforceable provision fill contractual gap valid enforceable provision shall apply reflect closely possible commercial intention party regard invalid unenforceable missing provision legal principle contain section cardinal norp civil code bgb shall apply irrespective allocation burden proof cardinal govern law agreement constitute letter shall govern construe accordance placeholder law court placeholder shall exclusive jurisdiction dispute arise connection agreement foregoing return letter sign duly authorise representative behalf\n"
     ]
    }
   ],
   "source": [
    "print(post_process)"
   ]
  }
 ],
 "metadata": {
  "kernelspec": {
   "display_name": "Python 3",
   "language": "python",
   "name": "python3"
  },
  "language_info": {
   "codemirror_mode": {
    "name": "ipython",
    "version": 3
   },
   "file_extension": ".py",
   "mimetype": "text/x-python",
   "name": "python",
   "nbconvert_exporter": "python",
   "pygments_lexer": "ipython3",
   "version": "3.7.4"
  }
 },
 "nbformat": 4,
 "nbformat_minor": 2
}
