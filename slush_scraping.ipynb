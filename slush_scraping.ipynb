{
 "cells": [
  {
   "cell_type": "code",
   "execution_count": 1,
   "metadata": {},
   "outputs": [],
   "source": [
    "import pandas as pd\n",
    "from selenium import webdriver\n",
    "import os\n",
    "import time\n",
    "from tqdm import tqdm_notebook as tqdm\n",
    "from scraping_files.slush_scrape import PageScrape\n",
    "import re\n",
    "\n",
    "#this to set up driver to get past login\n",
    "driver = webdriver.Chrome(os.path.join(os.pardir,'chromedriver'))\n",
    "slush_url = 'https://platform.slush.org/signin?returnUrl=%2Fslush19%2Fhome'\n",
    "driver.get(slush_url)"
   ]
  },
  {
   "cell_type": "code",
   "execution_count": 2,
   "metadata": {},
   "outputs": [],
   "source": [
    "SAVE_DIR = './attendance database'"
   ]
  },
  {
   "cell_type": "code",
   "execution_count": 3,
   "metadata": {},
   "outputs": [
    {
     "data": {
      "application/vnd.jupyter.widget-view+json": {
       "model_id": "68d9af88da824064b9867cc146287e04",
       "version_major": 2,
       "version_minor": 0
      },
      "text/plain": [
       "HBox(children=(IntProgress(value=0, max=182), HTML(value='')))"
      ]
     },
     "metadata": {},
     "output_type": "display_data"
    },
    {
     "name": "stdout",
     "output_type": "stream",
     "text": [
      "\n",
      "The number of profiles missed is 0\n"
     ]
    }
   ],
   "source": [
    "#fintechs\n",
    "fintech_url = 'https://platform.slush.org/slush19/matchmaking/browse?e=investor&f=%7B%22investorInvestingIndustries%22:%5B%22fintech%22%5D%7D'\n",
    "fintech_csv = 'fintech_investors_19Nov.csv'\n",
    "fintech_path = os.path.join(SAVE_DIR,fintech_csv)\n",
    "fintech_df = PageScrape(fintech_url,driver,save=True,save_dir=fintech_path)"
   ]
  },
  {
   "cell_type": "code",
   "execution_count": 5,
   "metadata": {},
   "outputs": [
    {
     "data": {
      "application/vnd.jupyter.widget-view+json": {
       "model_id": "1bf70641ba174b23b50e6a56523f7076",
       "version_major": 2,
       "version_minor": 0
      },
      "text/plain": [
       "HBox(children=(IntProgress(value=0, max=252), HTML(value='')))"
      ]
     },
     "metadata": {},
     "output_type": "display_data"
    },
    {
     "name": "stdout",
     "output_type": "stream",
     "text": [
      "\n",
      "The number of profiles missed is 0\n"
     ]
    }
   ],
   "source": [
    "#hiring people\n",
    "people_url = 'https://platform.slush.org/slush19/matchmaking/browse?e=attendee&f=%7B%22working-field%22:%5B%22developer%22,%22designer%22%5D,%22looking-to%22:%5B%22find-job-opportunities%22%5D%7D'\n",
    "people_csv = 'developers_designers_19Nov.csv'\n",
    "people_path = os.path.join(SAVE_DIR,people_csv)\n",
    "people_df = PageScrape(people_url,driver,save=True,save_dir=people_path)"
   ]
  },
  {
   "cell_type": "code",
   "execution_count": 3,
   "metadata": {},
   "outputs": [
    {
     "data": {
      "application/vnd.jupyter.widget-view+json": {
       "model_id": "e07cb8e1f98b4f6b8d56e12e831937b2",
       "version_major": 2,
       "version_minor": 0
      },
      "text/plain": [
       "HBox(children=(IntProgress(value=0, max=1703), HTML(value='')))"
      ]
     },
     "metadata": {},
     "output_type": "display_data"
    },
    {
     "name": "stdout",
     "output_type": "stream",
     "text": [
      "\n",
      "The number of profiles missed is 1591\n"
     ]
    }
   ],
   "source": [
    "product_url = 'https://platform.slush.org/slush19/matchmaking/browse?e=attendee&q=product'\n",
    "product_csv ='product_people_19Nov.csv'\n",
    "product_path = os.path.join(SAVE_DIR,product_csv)\n",
    "product_df = PageScrape(product_url,driver,save=True,save_dir=product_path)"
   ]
  },
  {
   "cell_type": "code",
   "execution_count": 6,
   "metadata": {},
   "outputs": [],
   "source": [
    "driver.close()"
   ]
  },
  {
   "cell_type": "code",
   "execution_count": null,
   "metadata": {},
   "outputs": [],
   "source": []
  }
 ],
 "metadata": {
  "kernelspec": {
   "display_name": "Python 3",
   "language": "python",
   "name": "python3"
  },
  "language_info": {
   "codemirror_mode": {
    "name": "ipython",
    "version": 3
   },
   "file_extension": ".py",
   "mimetype": "text/x-python",
   "name": "python",
   "nbconvert_exporter": "python",
   "pygments_lexer": "ipython3",
   "version": "3.7.4"
  }
 },
 "nbformat": 4,
 "nbformat_minor": 2
}
