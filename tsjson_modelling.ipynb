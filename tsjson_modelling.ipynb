{
 "cells": [
  {
   "cell_type": "code",
   "execution_count": 1,
   "metadata": {},
   "outputs": [],
   "source": [
    "import os\n",
    "import pandas as pd\n",
    "import numpy as np\n",
    "from PIL import Image\n",
    "import matplotlib.pyplot as plt\n",
    "import pytesseract\n",
    "from pdf2image import convert_from_path\n",
    "from tqdm import tqdm_notebook as tqdm\n",
    "import tabula\n",
    "import json\n",
    "import re\n",
    "import ast\n",
    "import copy"
   ]
  },
  {
   "cell_type": "markdown",
   "metadata": {},
   "source": [
    "Assumptions:\n",
    " - A higher order value can only be accessed by at least one non-base value\n",
    " - A higher order value can not exist if it can be produced by base values only ie (0,1),(1) can't exist"
   ]
  },
  {
   "cell_type": "code",
   "execution_count": 15,
   "metadata": {},
   "outputs": [],
   "source": [
    "def order_parse(parse_values,preceding_values,sheetfields,dependency_add=False):\n",
    "    \n",
    "    parse_order_values = {}\n",
    "    higher_order_values = {}\n",
    "    \n",
    "    for key,value in parse_values.items():\n",
    "        exist = value['exist']\n",
    "        conditions_list = exist.split('||')\n",
    "        order_list = []\n",
    "        dependency_list = []\n",
    "        for conditions in conditions_list:\n",
    "            pass_conditions = False\n",
    "            tag_extract = re.findall(\"fields.(.*?)(?: ==| !=)\",conditions)\n",
    "            dependency_extract = re.findall(\"fields.(.*?)\\)\",conditions)\n",
    "            for tag in tag_extract:\n",
    "                if tag not in sheetfields:\n",
    "                    pass_conditions = True            \n",
    "            if not pass_conditions:\n",
    "                tag_order = [tag in preceding_values for tag in tag_extract]\n",
    "                tag_order = set([int(t) for t in tag_order])\n",
    "                tag_set = tuple(tag_order)\n",
    "                order_list.append(tag_set)\n",
    "                if len(dependency_extract) > 0:\n",
    "                    dependency_list.append(dependency_extract)     \n",
    "        \n",
    "        if dependency_add is True:\n",
    "            value['dependency'] = dependency_list            \n",
    "        order_update = True\n",
    "        order_list = list(set(order_list))\n",
    "        for order in order_list:\n",
    "            if 0 in order:\n",
    "                order_update = False\n",
    "        if order_update is True:\n",
    "            parse_order_values.update({key:value})\n",
    "        else:\n",
    "            higher_order_values.update({key:value}) \n",
    "            \n",
    "    return parse_order_values,higher_order_values\n",
    "\n",
    "\n",
    "class order_simulate_values():\n",
    "    def __init__(self,var_name):\n",
    "        self.var_name = var_name\n",
    "        self.values_exist = []\n",
    "\n",
    "#potential classmethod for generating from default by type\n",
    "def default_type_values_generator(order_dict,order_object):\n",
    "    \n",
    "    order_simulate_name = order_object.var_name    \n",
    "    default_dict = {\"selectone\":\"0\",\"yesno\":\"yes\",\"text\":\"example text\",\"text_list\":\"[text 1 ,text 2]\",\n",
    "                   \"money\":\"100000\",\"amount\":\"100\",\"date\":\"30-Jun-2021\",\"currency\":\"USD\",\"number\":\"50\",\n",
    "                    \"image\":\"example.jpg\",\"percent\":\"2\"}    \n",
    "    for key,value in order_dict.items():\n",
    "        default_val = str(default_dict[value['type']]) \n",
    "        order_object.__setattr__(key,default_val)\n",
    "            \n",
    "    return order_object\n",
    "\n",
    "\n",
    "def exist_check(order_object,order_dict,check_object):\n",
    "    check_name = check_object.__getattribute__(\"var_name\")\n",
    "    for key,value in order_dict.items():\n",
    "        exist_dependencies = value['dependency']\n",
    "        for condition_list in exist_dependencies:\n",
    "            skip = False\n",
    "            for condition in condition_list:\n",
    "                evaluation = eval(f\"{check_name}.\"+condition)\n",
    "                if evaluation is False:\n",
    "                    skip = True\n",
    "            if skip is False:\n",
    "                order_object.values_exist.append(key)\n",
    "                check_value_update = order_object.__getattribute__(key)\n",
    "                check_object.__setattr__(key,check_value_update)\n",
    "    order_object.values_exist = list(set(order_object.values_exist))\n",
    "    return order_object,check_object\n",
    "\n",
    "def list_reference_order(sample_list,master_list):\n",
    "    order_dict = {}\n",
    "    for sample in sample_list:\n",
    "        index = master_list.index(sample)\n",
    "        order_dict.update({index:sample})\n",
    "    order_vals = list(order_dict.keys())\n",
    "    order_vals = sorted(order_dict)\n",
    "    sample_order_list = [order_dict[index] for index in order_vals]\n",
    "    return sample_order_list"
   ]
  },
  {
   "cell_type": "code",
   "execution_count": 16,
   "metadata": {},
   "outputs": [],
   "source": [
    "data_dir = os.getcwd()\n",
    "input_file = open(os.path.join(data_dir,'CBAWorkflowIon.txt'))\n",
    "input_json = json.load(input_file)\n",
    "ts_field_values = input_json['groups']['termsheet']['fields']\n",
    "\n",
    "ts_fields = {}\n",
    "for key,value in input_json['fields'].items():\n",
    "    if key in ts_field_values:\n",
    "        value.pop('editable')\n",
    "        ts_fields.update({key:value})\n",
    "\n",
    "termsheetfields = list(ts_fields.keys())\n",
    "\n",
    "master_order_type = {}\n",
    "index_fields = {}\n",
    "for index,field in enumerate(ts_field_values):\n",
    "    data_type = ts_fields[field]['type']\n",
    "    if data_type not in master_order_type:\n",
    "        master_order_type.update({data_type:[field]})\n",
    "    else:\n",
    "        master_order_type[data_type].append(field)"
   ]
  },
  {
   "cell_type": "code",
   "execution_count": 18,
   "metadata": {},
   "outputs": [
    {
     "name": "stdout",
     "output_type": "stream",
     "text": [
      "{'image': ['logo_issuer', 'logo_dealer'], 'text': ['issuer', 'other_rating_agency', 'other_rating_agency_rating', 'security_type', 'status_of_notes', 'benchmark_bond', 'benchmark_curve', 'governing_law', 'expenses', 'isin', 'common_code', 'use_of_proceeds', 'termsheetdisclaimer'], 'currency': ['issuance_currency'], 'money': ['nominal_amount', 'net_proceeds', 'denomination_minimum', 'integral_multiple'], 'selectone': ['interest_basis', 'ratings', 'moodys_rating', 's_and_p_rating', 'fitch_rating', 'method_of_distribution', 'interest_frequency', 'fixed_day_count_fraction', 'day_count_fraction_floating', 'business_day_convention', 'reference_rate', 'mifid_target_market', 'bearer_or_registered'], 'percent': ['fixed_interest_rate', 'margin', 'reoffer_price', 'reoffer_yield', 'upfront_fees', 'all_in_price', 'all_in_yield', 'final_redemption_amount'], 'date': ['maturity_date', 'issue_date'], 'yesno': ['issuer_ratings', 'moodys_rating_required', 's_and_p_rating_required', 'fitch_rating_required', 'other_rating', 'business_day_convention_required', 'investor_put', 'issuer_call', 'paying_agent_details_required', 'additional_business_centres_required', 'listing', 'mifid_manufacturers_required', 'integral_multiple_required', 'use_of_proceeds_required'], 'text_list': ['lead_managers', 'fixed_interest_payment_dates', 'floating_interest_payment_dates', 'paying_agent_details', 'additional_business_centres', 'mifid_manufacturers'], 'number': ['spread_over_benchmark_in_bps']}\n"
     ]
    }
   ],
   "source": [
    "print(master_order_type)"
   ]
  },
  {
   "cell_type": "markdown",
   "metadata": {},
   "source": [
    "type_list = []\n",
    "for keys,values in ts_fields.items():\n",
    "    type_list.append(values['type'])\n",
    "    \n",
    "type_set = set(type_list)\n",
    "print(f'Data Types Present: {type_set}')"
   ]
  },
  {
   "cell_type": "code",
   "execution_count": 4,
   "metadata": {},
   "outputs": [],
   "source": [
    "base_dict = {}\n",
    "non_base_dict = {}\n",
    "for key,value in ts_fields.items():\n",
    "    if value['exist'] is True:\n",
    "        base_dict.update({key:value})\n",
    "    else:\n",
    "        non_base_dict.update({key:value})\n",
    "\n",
    "\n",
    "preceding_dict = base_dict\n",
    "first_order_dict,high_order_dict = order_parse(non_base_dict,preceding_dict,termsheetfields,dependency_add=True)\n",
    "preceding_dict.update(first_order_dict)\n",
    "second_order_dict,higher_order_dict = order_parse(high_order_dict,preceding_dict,termsheetfields)\n",
    "assert len(higher_order_dict) == 0, 'Higher order Exists'"
   ]
  },
  {
   "cell_type": "code",
   "execution_count": 5,
   "metadata": {},
   "outputs": [],
   "source": [
    "base_simulate_values = order_simulate_values('base_simulate_values')\n",
    "\n",
    "for key in base_dict.keys():\n",
    "    base_simulate_values.values_exist.append(key)\n",
    "\n",
    "first_order_simulate_values = order_simulate_values('first_order_simulate_values')\n",
    "second_order_simulate_values = order_simulate_values('second_order_simulate_values')\n",
    "\n",
    "base_simulate_values = default_type_values_generator(base_dict,base_simulate_values)\n",
    "first_order_simulate_values = default_type_values_generator(first_order_dict,first_order_simulate_values)\n",
    "second_order_simulate_values = default_type_values_generator(second_order_dict,second_order_simulate_values)"
   ]
  },
  {
   "cell_type": "code",
   "execution_count": 6,
   "metadata": {},
   "outputs": [],
   "source": [
    "check_object = copy.deepcopy(base_simulate_values)\n",
    "first_order_simulate_values, check_object = exist_check(first_order_simulate_values,first_order_dict,check_object)\n",
    "second_order_simulate_values, check_object = exist_check(second_order_simulate_values,second_order_dict,check_object)"
   ]
  },
  {
   "cell_type": "code",
   "execution_count": 7,
   "metadata": {},
   "outputs": [
    {
     "name": "stdout",
     "output_type": "stream",
     "text": [
      "['mifid_manufacturers', 'business_day_convention_required', 'interest_frequency', 'other_rating', 'use_of_proceeds', 'paying_agent_details', 'fixed_interest_payment_dates', 'moodys_rating_required', 'ratings', 'fitch_rating_required', 'integral_multiple', 'lead_managers', 'fixed_interest_rate', 'fixed_day_count_fraction', 's_and_p_rating_required', 'additional_business_centres']\n"
     ]
    }
   ],
   "source": [
    "print(first_order_simulate_values.values_exist)"
   ]
  },
  {
   "cell_type": "code",
   "execution_count": 8,
   "metadata": {},
   "outputs": [
    {
     "name": "stdout",
     "output_type": "stream",
     "text": [
      "['fitch_rating', 'moodys_rating', 'business_day_convention', 'other_rating_agency', 'other_rating_agency_rating', 's_and_p_rating']\n"
     ]
    }
   ],
   "source": [
    "print(second_order_simulate_values.values_exist)"
   ]
  },
  {
   "cell_type": "code",
   "execution_count": 9,
   "metadata": {},
   "outputs": [
    {
     "name": "stdout",
     "output_type": "stream",
     "text": [
      "['additional_business_centres_required', 'all_in_price', 'all_in_yield', 'bearer_or_registered', 'benchmark_bond', 'benchmark_curve', 'common_code', 'denomination_minimum', 'expenses', 'final_redemption_amount', 'governing_law', 'integral_multiple_required', 'interest_basis', 'investor_put', 'isin', 'issuance_currency', 'issue_date', 'issuer', 'issuer_call', 'issuer_ratings', 'listing', 'logo_dealer', 'logo_issuer', 'maturity_date', 'method_of_distribution', 'mifid_manufacturers_required', 'mifid_target_market', 'net_proceeds', 'nominal_amount', 'paying_agent_details_required', 'reoffer_price', 'reoffer_yield', 'security_type', 'spread_over_benchmark_in_bps', 'status_of_notes', 'termsheetdisclaimer', 'upfront_fees', 'use_of_proceeds_required', 'additional_business_centres', 'business_day_convention_required', 'day_count_fraction_floating', 'fitch_rating_required', 'fixed_day_count_fraction', 'fixed_interest_payment_dates', 'fixed_interest_rate', 'floating_interest_payment_dates', 'integral_multiple', 'interest_frequency', 'lead_managers', 'margin', 'mifid_manufacturers', 'moodys_rating_required', 'other_rating', 'paying_agent_details', 'ratings', 'reference_rate', 's_and_p_rating_required', 'use_of_proceeds']\n"
     ]
    }
   ],
   "source": [
    "print(base_simulate_values.values_exist)"
   ]
  },
  {
   "cell_type": "code",
   "execution_count": 10,
   "metadata": {},
   "outputs": [
    {
     "name": "stdout",
     "output_type": "stream",
     "text": [
      "['additional_business_centres', 'additional_business_centres_required', 'all_in_price', 'all_in_yield', 'bearer_or_registered', 'benchmark_bond', 'benchmark_curve', 'business_day_convention', 'business_day_convention_required', 'common_code', 'day_count_fraction_floating', 'denomination_minimum', 'expenses', 'final_redemption_amount', 'fitch_rating', 'fitch_rating_required', 'fixed_day_count_fraction', 'fixed_interest_payment_dates', 'fixed_interest_rate', 'floating_interest_payment_dates', 'governing_law', 'integral_multiple', 'integral_multiple_required', 'interest_basis', 'interest_frequency', 'investor_put', 'isin', 'issuance_currency', 'issue_date', 'issuer', 'issuer_call', 'issuer_ratings', 'lead_managers', 'listing', 'logo_dealer', 'logo_issuer', 'margin', 'maturity_date', 'method_of_distribution', 'mifid_manufacturers', 'mifid_manufacturers_required', 'mifid_target_market', 'moodys_rating', 'moodys_rating_required', 'net_proceeds', 'nominal_amount', 'other_rating', 'other_rating_agency', 'other_rating_agency_rating', 'paying_agent_details', 'paying_agent_details_required', 'ratings', 'reference_rate', 'reoffer_price', 'reoffer_yield', 's_and_p_rating', 's_and_p_rating_required', 'security_type', 'spread_over_benchmark_in_bps', 'status_of_notes', 'termsheetdisclaimer', 'upfront_fees', 'use_of_proceeds', 'use_of_proceeds_required']\n"
     ]
    }
   ],
   "source": [
    "print(termsheetfields)\n"
   ]
  },
  {
   "cell_type": "code",
   "execution_count": 14,
   "metadata": {},
   "outputs": [],
   "source": []
  },
  {
   "cell_type": "code",
   "execution_count": null,
   "metadata": {},
   "outputs": [],
   "source": []
  }
 ],
 "metadata": {
  "kernelspec": {
   "display_name": "Python 3",
   "language": "python",
   "name": "python3"
  },
  "language_info": {
   "codemirror_mode": {
    "name": "ipython",
    "version": 3
   },
   "file_extension": ".py",
   "mimetype": "text/x-python",
   "name": "python",
   "nbconvert_exporter": "python",
   "pygments_lexer": "ipython3",
   "version": "3.7.4"
  }
 },
 "nbformat": 4,
 "nbformat_minor": 2
}
